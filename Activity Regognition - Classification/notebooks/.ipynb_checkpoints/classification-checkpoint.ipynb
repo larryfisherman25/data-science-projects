{
 "cells": [
  {
   "cell_type": "markdown",
   "metadata": {},
   "source": [
    "# Activity Recognition from Single Chest-Mounted Accelerometer Data Set"
   ]
  },
  {
   "cell_type": "markdown",
   "metadata": {
    "tags": []
   },
   "source": [
    "### **Fonte:**\n",
    "\n",
    "Com um acelerômetro não calibrado, os dados são recolhidos de 15 participantes que realizam 7 actividades. O conjunto de dados fornece desafios para a identificação e autenticação de pessoas que utilizam padrões de movimento.\n",
    "\n",
    "### **Informação sobre o conjunto de dados:**\n",
    "\n",
    "\n",
    "* O conjunto de dados recolhe dados a partir de um acelerómetro utilizável montado no peito\n",
    "* Frequência de amostragem do acelerómetro: 52 Hz\n",
    "* Os dados do acelerômetro não são calibrados\n",
    "* Número de Participantes: 15\n",
    "* Número de Actividades: 7\n",
    "* Formato dos dados: CSV\n",
    "\n",
    "\n",
    "### **Informação de Atributos:**\n",
    "\n",
    "#### Os dados são separados por participante, cada ficheiro contém as seguintes informações:\n",
    "* número sequencial, x aceleração, y aceleração, z aceleração, etiqueta\n",
    "\n",
    "\n",
    "\n",
    "#### Os rótulos são codificados por números\n",
    "```\n",
    " 1: Trabalhar no computador\n",
    " 2: Levantar, Caminhar e Subir e Descer escadas\n",
    " 3: Em pé\n",
    " 4: Andar a pé\n",
    " 5: Subir e descer escadas\n",
    " 6: Caminhar e Falar com Alguém\n",
    " 7: Conversar em pé\n",
    "```"
   ]
  },
  {
   "cell_type": "code",
   "execution_count": 3,
   "metadata": {},
   "outputs": [],
   "source": [
    "import re\n",
    "import gc\n",
    "\n",
    "import numpy as np\n",
    "import pandas as pd\n",
    "import matplotlib.pyplot as plt\n",
    "import seaborn as sns\n",
    "\n",
    "from scipy.stats import zscore\n",
    "from sklearn.covariance import EllipticEnvelope\n",
    "from sklearn.preprocessing import StandardScaler\n",
    "from sklearn.model_selection import train_test_split\n",
    "from sklearn import metrics\n",
    "\n",
    "from sklearn.neighbors import KNeighborsClassifier\n",
    "from sklearn.tree import DecisionTreeClassifier\n",
    "from sklearn.ensemble import RandomForestClassifier\n",
    "from sklearn.model_selection import RandomizedSearchCV,GridSearchCV,cross_validate\n",
    "\n",
    "sns.set(color_codes=True)\n",
    "%matplotlib inline\n"
   ]
  },
  {
   "cell_type": "markdown",
   "metadata": {},
   "source": [
    "### 1.0 Importando o dataset diretamente do [site](https://archive.ics.uci.edu/ml/datasets/Activity+Recognition+from+Single+Chest-Mounted+Accelerometer/)"
   ]
  },
  {
   "cell_type": "code",
   "execution_count": 4,
   "metadata": {},
   "outputs": [
    {
     "name": "stdout",
     "output_type": "stream",
     "text": [
      "--2022-11-05 14:00:58--  https://archive.ics.uci.edu/ml/machine-learning-databases/00287/Activity%20Recognition%20from%20Single%20Chest-Mounted%20Accelerometer.zip\n",
      "Resolving archive.ics.uci.edu (archive.ics.uci.edu)... 128.195.10.252\n",
      "Connecting to archive.ics.uci.edu (archive.ics.uci.edu)|128.195.10.252|:443... connected.\n",
      "HTTP request sent, awaiting response... 200 OK\n",
      "Length: 11256835 (11M) [application/x-httpd-php]\n",
      "Saving to: ‘Activity Recognition from Single Chest-Mounted Accelerometer.zip’\n",
      "\n",
      "Activity Recognitio 100%[===================>]  10.74M  3.81MB/s    in 2.8s    \n",
      "\n",
      "2022-11-05 14:01:02 (3.81 MB/s) - ‘Activity Recognition from Single Chest-Mounted Accelerometer.zip’ saved [11256835/11256835]\n",
      "\n"
     ]
    }
   ],
   "source": [
    "!wget \"https://archive.ics.uci.edu/ml/machine-learning-databases/00287/Activity%20Recognition%20from%20Single%20Chest-Mounted%20Accelerometer.zip\""
   ]
  },
  {
   "cell_type": "code",
   "execution_count": null,
   "metadata": {},
   "outputs": [],
   "source": []
  }
 ],
 "metadata": {
  "kernelspec": {
   "display_name": "Python 3 (ipykernel)",
   "language": "python",
   "name": "python3"
  },
  "language_info": {
   "codemirror_mode": {
    "name": "ipython",
    "version": 3
   },
   "file_extension": ".py",
   "mimetype": "text/x-python",
   "name": "python",
   "nbconvert_exporter": "python",
   "pygments_lexer": "ipython3",
   "version": "3.10.6"
  },
  "vscode": {
   "interpreter": {
    "hash": "916dbcbb3f70747c44a77c7bcd40155683ae19c65e1c03b4aa3499c5328201f1"
   }
  }
 },
 "nbformat": 4,
 "nbformat_minor": 4
}
