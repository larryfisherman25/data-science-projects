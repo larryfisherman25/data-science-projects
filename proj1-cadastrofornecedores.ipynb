{
 "cells": [
  {
   "cell_type": "markdown",
   "id": "3058a7b6",
   "metadata": {},
   "source": [
    "# Projeto 1 - Cadastro de Fornecedores\n",
    "# Matheus Fanali Giraldes\n",
    "\n",
    "Informações que devem ser cadastradas:\n",
    "\n",
    "- Código do fornecedor;\n",
    "- Nome do fornecedor;\n",
    "- Telefone do fornecedor;\n",
    "- Email do fornecedor.\n",
    "\n",
    "É necessário criar uma \"interface de navegação\" pelo sistema, que tenha as seguintes funcionalidades:\n",
    "\n",
    "- Permite a exibição (usando o `print`) de todas as informaçoes de contatos específicos, a partir da busca pelo código do fornecedor;\n",
    "- Permite a remoção e adição de fornecedores à estrutura de cadastro.\n",
    "\n",
    "Requisitos:\n",
    "\n",
    "- Requisito #1 - Não existe um limite para fornecedores cadastrados, portanto você deverá permitir que o usuário cadastre a quantidade que desejar.\n",
    "- Requisito #2 - Crie pelo menos uma função em seu script. Você deverá escolher pelo menos uma tarefa do seu script e implementar em uma função para chamá-la dentro da sua lógica de cadastro.\n",
    "- Requisito #3 - Crie pelo menos uma verificação em seu código, por exemplo: Se o dicionário estiver vazio, não permita a opção remover.\n",
    "\n",
    "Tópicos avaliados:\n",
    "\n",
    "- Variáveis;\n",
    "- Tipos de dados;\n",
    "- Operadores aritméticos;\n",
    "- I/O de dados;\n",
    "- Expressões lógicas e condicionais;\n",
    "- Laços de repetição;\n",
    "- Listas e dicionários;\n",
    "- Funções."
   ]
  },
  {
   "cell_type": "markdown",
   "id": "875c635c",
   "metadata": {},
   "source": [
    "## Funções principais do programa (main)"
   ]
  },
  {
   "cell_type": "code",
   "execution_count": 140,
   "id": "ec8576c6",
   "metadata": {},
   "outputs": [
    {
     "name": "stdout",
     "output_type": "stream",
     "text": [
      "\u001b[7;30m~~~~~~~~~~~~~~~~~~~~~~~~~~~~~~~~~~~~~~~~~~~~~~~~~~~\n",
      "  SISTEMA DE CADASTRO DE FORNECEDORES - DS DEGREE  \n",
      "~~~~~~~~~~~~~~~~~~~~~~~~~~~~~~~~~~~~~~~~~~~~~~~~~~~\n",
      "\u001b[m\n",
      "[1] - Adicionar Novo Fornecedor;\n",
      "[2] - Buscar Fornecedor Cadastrado;\n",
      "[3] - Remover Fornecedor Cadastrado;\n",
      "[4] - Sair.\n",
      "4\n"
     ]
    }
   ],
   "source": [
    "from time import sleep\n",
    "\n",
    "# inputs de dados\n",
    "f1 = {'nome': 'superbac', 'telefone': '(44)90000-0000', 'email': 'blabla@gmail.com'}\n",
    "f2 = {'nome': 'aaaaaaaa', 'telefone': '(44)99999-9999', 'email': 'aaaaaa@gmail.com'}\n",
    "f3 = {'nome': 'bbbbbbbb', 'telefone': '(44)98888-8888', 'email': 'bbbbbb@gmail.com'}\n",
    "f4 = {'nome': 'cccccccc', 'telefone': '(44)97777-7777', 'email': 'cccccc@gmail.com'}\n",
    "lista_f = [f1, f2, f3, f4]\n",
    "\n",
    "# formatação de cores\n",
    "c = ('\\033[m',        # 0 - SEM COR\n",
    "    '\\033[0;30;41m',  # 1 - VERMELHO\n",
    "    '\\033[0;30;42m',  # 2 - VERDE\n",
    "    '\\033[0;30;43m',  # 3 - AMARELO\n",
    "    '\\033[0;30;44m',  # 4 - AZUL\n",
    "    '\\033[1;30;45m',  # 5 - ROXO\n",
    "    '\\033[7;30m',     # 6 - BRANCO\n",
    "    )\n",
    "\n",
    "\n",
    "# Definindo as funções\n",
    "\n",
    "\n",
    "# Função trata o input de número de telefone\n",
    "def leiaTel(msg):\n",
    "    ok = False\n",
    "    n = 0\n",
    "    while True:\n",
    "        n = str(input(msg))\n",
    "        if n.isnumeric():\n",
    "            if (len(n)>=11):\n",
    "                n = '(' + \"\".join(n[0:2]) + ')' + \"\".join(n[2:7]) + '-' + \"\".join(n[7:11])\n",
    "                ok = True             \n",
    "            else:\n",
    "                print('\\033[7;31mERRO! Digite um número de telefone válido.\\033[m')\n",
    "        else:\n",
    "            print('\\033[7;31mERRO! Digite um número de telefone válido.\\033[m')\n",
    "        if ok:\n",
    "            break\n",
    "    return n\n",
    "\n",
    "\n",
    "def leiaemail(msg):\n",
    "    ok = False\n",
    "    e = 0\n",
    "    while True:\n",
    "        e = str(input(msg))\n",
    "        if '@' and '.' in e:\n",
    "            ok = True\n",
    "        else:\n",
    "            print('\\033[7;31mERRO! Digite um e-mail válido.\\033[m')\n",
    "        if ok:\n",
    "            break\n",
    "    return e.lower()\n",
    "\n",
    "\n",
    "def title(msg, cor=0):\n",
    "    tam = len(msg) + 4\n",
    "    print(c[cor], end='')\n",
    "    print('~' * tam)\n",
    "    print(f'  {msg}  ')\n",
    "    print('~' * tam)\n",
    "    print(c[0], end='')\n",
    "    sleep(1)\n",
    "    return\n",
    "\n",
    "\n",
    "def options():\n",
    "    option = int(input('''\n",
    "[1] - Adicionar Novo Fornecedor;\n",
    "[2] - Buscar Fornecedor Cadastrado;\n",
    "[3] - Remover Fornecedor Cadastrado;\n",
    "[4] - Sair.\n",
    "'''))\n",
    "    sleep(2)\n",
    "    return option\n",
    "\n",
    "\n",
    "# Adicionar fornecedor\n",
    "def add_forn(nome, tel, email):\n",
    "    nome = str(input('Digite o nome do fornecedor: '))\n",
    "    tel = leiaTel('Digite o número do telefone com DDD: ')\n",
    "    email = leiaemail('Digite o email: ')\n",
    "    lista_f.append({'nome': nome, 'telefone': tel, 'email': email})\n",
    "    print(f'[{len(lista_f) - 1}] - {lista_f[-1]}')\n",
    "    sleep(1)\n",
    "    print(f'\\033[0;42mFornecedor cadastrado com sucesso!\\033[m\\n')\n",
    "    sleep(2)\n",
    "    return programa()\n",
    "\n",
    "# Exibir fornecedor\n",
    "def mostrar_forn():\n",
    "    for i, elemento in enumerate(lista_f):\n",
    "        print(f'[{i}] - {elemento}')\n",
    "    return programa()\n",
    "    \n",
    "# Remover fornecedor\n",
    "def remov_forn():\n",
    "    for i, elemento in enumerate(lista_f):\n",
    "        print(f'[{i}] - {elemento}')\n",
    "    choice = int(input('Digite o código do Fornecedor que você quer eliminar: '))\n",
    "    f_removed = 0\n",
    "    f_removed = lista_f.pop(choice)\n",
    "    print('o fornecedor', f_removed['nome'],'foi removido com sucesso!')\n",
    "    return programa()\n",
    "\n",
    "# \n",
    "def programa():\n",
    "    title('SISTEMA DE CADASTRO DE FORNECEDORES - DS DEGREE', 6)\n",
    "    sleep(0.5)\n",
    "    condition = True\n",
    "    choice = options()\n",
    "    while choice != 4 :\n",
    "        if choice == 2:\n",
    "            mostrar_forn()\n",
    "        elif choice == 1:\n",
    "            add_forn(nome, tel, email)\n",
    "        elif choice == 3:\n",
    "            remov_forn()\n",
    "        else:\n",
    "            break\n",
    "            print('Até logo!')\n",
    "            exit()\n",
    "    return\n",
    "\n",
    "programa()"
   ]
  },
  {
   "cell_type": "markdown",
   "id": "71f31d24-8a62-41d2-a9c8-3a15fc33cdd8",
   "metadata": {},
   "source": [
    "------------------------"
   ]
  },
  {
   "cell_type": "markdown",
   "id": "84617d4a-681b-43f3-ab55-12d52f7bdb54",
   "metadata": {},
   "source": [
    "# Testes e melhorias"
   ]
  },
  {
   "cell_type": "code",
   "execution_count": 58,
   "id": "a5d4fa37",
   "metadata": {
    "scrolled": true
   },
   "outputs": [
    {
     "name": "stdout",
     "output_type": "stream",
     "text": [
      "\u001b[7;31mERRO! Digite um número válido.\u001b[m\n"
     ]
    }
   ],
   "source": [
    "print('\\033[7;31mERRO! Digite um número válido.\\033[m')"
   ]
  },
  {
   "cell_type": "code",
   "execution_count": 115,
   "id": "5d2d1293",
   "metadata": {},
   "outputs": [
    {
     "name": "stdout",
     "output_type": "stream",
     "text": [
      "Digite o nome do fornecedor: Carambolas\n",
      "Digite o número do telefone com DDD: 44997732583\n",
      "Digite o email: BLACK@GMAIL.COM\n",
      "\u001b[0;42mFornecedor cadastrado com sucesso!\u001b[m\n",
      " [4] {'nome': 'Carambolas', 'telefone': '(44)99773-2583', 'email': 'BLACK@GMAIL.COM'}\n"
     ]
    },
    {
     "data": {
      "text/plain": [
       "[{'nome': 'superbac',\n",
       "  'telefone': '(44)90000-0000',\n",
       "  'email': 'blabla@gmail.com'},\n",
       " {'nome': 'aaaaaaaa',\n",
       "  'telefone': '(44)99999-9999',\n",
       "  'email': 'aaaaaa@gmail.com'},\n",
       " {'nome': 'bbbbbbbb',\n",
       "  'telefone': '(44)98888-8888',\n",
       "  'email': 'bbbbbb@gmail.com'},\n",
       " {'nome': 'cccccccc',\n",
       "  'telefone': '(44)97777-7777',\n",
       "  'email': 'cccccc@gmail.com'},\n",
       " {'nome': 'Carambolas',\n",
       "  'telefone': '(44)99773-2583',\n",
       "  'email': 'BLACK@GMAIL.COM'}]"
      ]
     },
     "execution_count": 115,
     "metadata": {},
     "output_type": "execute_result"
    }
   ],
   "source": [
    "f1 = {'nome': 'superbac', 'telefone': '(44)90000-0000', 'email': 'blabla@gmail.com'}\n",
    "f2 = {'nome': 'aaaaaaaa', 'telefone': '(44)99999-9999', 'email': 'aaaaaa@gmail.com'}\n",
    "f3 = {'nome': 'bbbbbbbb', 'telefone': '(44)98888-8888', 'email': 'bbbbbb@gmail.com'}\n",
    "f4 = {'nome': 'cccccccc', 'telefone': '(44)97777-7777', 'email': 'cccccc@gmail.com'}\n",
    "lista_f = [f1, f2, f3, f4]\n",
    "fornecedores = {}\n",
    "\n",
    "def add_forn(nome, tel, email):\n",
    "    nome = str(input('Digite o nome do fornecedor: '))\n",
    "    tel = leiaTel('Digite o número do telefone com DDD: ')\n",
    "    email = leiaemail('Digite o email: ')\n",
    "    lista_f.append({'nome': nome, 'telefone': tel, 'email': email})\n",
    "    print(f'\\033[0;42mFornecedor cadastrado com sucesso!\\033[m\\n [{len(lista_f) - 1}] {lista_f[len(lista_f) - 1]}')\n",
    "    \n",
    "    return lista_f\n",
    "\n",
    "add_forn(nome, tel, email)"
   ]
  },
  {
   "cell_type": "code",
   "execution_count": 10,
   "id": "af55b122",
   "metadata": {},
   "outputs": [
    {
     "name": "stdout",
     "output_type": "stream",
     "text": [
      "Digite o nome do fornecedor: kkkkkkkkkk\n",
      "Digite o tel do fornecedor: kkkkkkkkkk\n",
      "Digite o email: kkkkkkkkkkk\n",
      "\u001b[0;42mFornecedor cadastrado com sucesso!\u001b[m\n",
      "O código deste fornecedor é: {'nome': 'kkkkkkkkkk', 'telefone': 'kkkkkkkkkk', 'email': 'kkkkkkkkkkk'}\n",
      "\n"
     ]
    },
    {
     "data": {
      "text/plain": [
       "<enumerate at 0x243036f4b40>"
      ]
     },
     "execution_count": 10,
     "metadata": {},
     "output_type": "execute_result"
    }
   ],
   "source": [
    "f1 = {'nome': 'superbac', 'telefone': '(44)90000-0000', 'email': 'blabla@gmail.com'}\n",
    "f2 = {'nome': 'aaaaaaaa', 'telefone': '(44)99999-9999', 'email': 'aaaaaa@gmail.com'}\n",
    "f3 = {'nome': 'bbbbbbbb', 'telefone': '(44)98888-8888', 'email': 'bbbbbb@gmail.com'}\n",
    "f4 = {'nome': 'cccccccc', 'telefone': '(44)97777-7777', 'email': 'cccccc@gmail.com'}\n",
    "lista_f = [f1, f2, f3, f4]\n",
    "\n",
    "nome = input('Digite o nome do fornecedor: ')\n",
    "tel = input('Digite o tel do fornecedor: ')\n",
    "email = input('Digite o email: ')\n",
    "lista_f.append({'nome': nome, 'telefone': tel, 'email': email})\n",
    "print(f'\\033[0;42mFornecedor cadastrado com sucesso!\\033[m\\nO código deste fornecedor é: {lista_f[-1]}')\n",
    "print(f'')\n",
    "enumerate(lista_f)"
   ]
  },
  {
   "cell_type": "code",
   "execution_count": 8,
   "id": "1ecc41dd",
   "metadata": {},
   "outputs": [
    {
     "data": {
      "text/plain": [
       "4"
      ]
     },
     "execution_count": 8,
     "metadata": {},
     "output_type": "execute_result"
    }
   ],
   "source": [
    "len(lista_f) - 1"
   ]
  },
  {
   "cell_type": "code",
   "execution_count": 35,
   "id": "202e6f25",
   "metadata": {
    "scrolled": true
   },
   "outputs": [
    {
     "name": "stdout",
     "output_type": "stream",
     "text": [
      "Digite o número do telefone com DDD: 44997732583\n",
      "(44)99773-2583\n",
      "(44)99773-2583\n"
     ]
    }
   ],
   "source": [
    "n = str(input('Digite o número do telefone com DDD: '))\n",
    "if n.isnumeric():\n",
    "    n = '(' + \"\".join(n[0:2]) + ')' + \"\".join(n[2:7]) + '-' + \"\".join(n[7:11])\n",
    "    print(n)\n",
    "else:\n",
    "    print('deu ruim')\n",
    "print(n)"
   ]
  },
  {
   "cell_type": "code",
   "execution_count": 52,
   "id": "86e44a1e",
   "metadata": {},
   "outputs": [
    {
     "name": "stdout",
     "output_type": "stream",
     "text": [
      "\u001b[7;30m~~~~~~~~~~~~~~~~~~~~~~~~~~~~~~~~~~~~~~~~~\n",
      "  AMOOOOOOOOOOOOOOOOOOOOOOOOOOOOOOOOOOR  \n",
      "~~~~~~~~~~~~~~~~~~~~~~~~~~~~~~~~~~~~~~~~~\n",
      "\u001b[m"
     ]
    }
   ],
   "source": [
    "c = ('\\033[m',        # 0 - SEM COR\n",
    "    '\\033[0;30;41m',  # 1 - VERMELHO\n",
    "    '\\033[0;30;42m',  # 2 - VERDE\n",
    "    '\\033[0;30;43m',  # 3 - AMARELO\n",
    "    '\\033[0;30;44m',  # 4 - AZUL\n",
    "    '\\033[1;30;45m',  # 5 - ROXO\n",
    "    '\\033[7;30m',     # 6 - BRANCO\n",
    "    )\n",
    "\n",
    "\n",
    "def title(msg, cor=0):\n",
    "    tam = len(msg) + 4\n",
    "    print(c[cor], end='')\n",
    "    print('~' * tam)\n",
    "    print(f'  {msg}  ')\n",
    "    print('~' * tam)\n",
    "    print(c[0], end='')\n",
    "    return\n",
    "\n",
    "title('AMOOOOOOOOOOOOOOOOOOOOOOOOOOOOOOOOOOR', 6)"
   ]
  },
  {
   "cell_type": "code",
   "execution_count": 74,
   "id": "3a2d7d67",
   "metadata": {
    "scrolled": true
   },
   "outputs": [
    {
     "name": "stdout",
     "output_type": "stream",
     "text": [
      "Digite o número do telefone com DDD: 4997732583\n",
      "\u001b[7;31mERRO! Digite um número de telefone válido.\u001b[m\n",
      "Digite o número do telefone com DDD: 44997732583\n"
     ]
    },
    {
     "data": {
      "text/plain": [
       "'(44)99773-2583'"
      ]
     },
     "execution_count": 74,
     "metadata": {},
     "output_type": "execute_result"
    }
   ],
   "source": [
    "def leiaTel(msg):\n",
    "    ok = False\n",
    "    n = 0\n",
    "    while True:\n",
    "        n = str(input(msg))\n",
    "        if n.isnumeric():\n",
    "            if (len(n)>=11):\n",
    "                n = '(' + \"\".join(n[0:2]) + ')' + \"\".join(n[2:7]) + '-' + \"\".join(n[7:11])\n",
    "                ok = True             \n",
    "            else:\n",
    "                print('\\033[7;31mERRO! Digite um número de telefone válido.\\033[m')\n",
    "        else:\n",
    "            print('\\033[7;31mERRO! Digite um número de telefone válido.\\033[m')\n",
    "        if ok:\n",
    "            break\n",
    "    return n\n",
    "\n",
    "leiaTel('Digite o número do telefone com DDD: ')"
   ]
  },
  {
   "cell_type": "code",
   "execution_count": 30,
   "id": "2a1b7fd5",
   "metadata": {
    "scrolled": true
   },
   "outputs": [
    {
     "ename": "AttributeError",
     "evalue": "'list' object has no attribute 'keys'",
     "output_type": "error",
     "traceback": [
      "\u001b[1;31m---------------------------------------------------------------------------\u001b[0m",
      "\u001b[1;31mAttributeError\u001b[0m                            Traceback (most recent call last)",
      "\u001b[1;32m<ipython-input-30-41bfda558e76>\u001b[0m in \u001b[0;36m<module>\u001b[1;34m\u001b[0m\n\u001b[0;32m     13\u001b[0m \u001b[0msup\u001b[0m \u001b[1;33m=\u001b[0m \u001b[1;33m{\u001b[0m\u001b[1;34m'nome'\u001b[0m\u001b[1;33m:\u001b[0m \u001b[1;34m'SUPERBAC'\u001b[0m \u001b[1;33m,\u001b[0m \u001b[1;34m'tel'\u001b[0m\u001b[1;33m:\u001b[0m \u001b[1;34m'(44)99222-3444'\u001b[0m\u001b[1;33m,\u001b[0m \u001b[1;34m'email'\u001b[0m\u001b[1;33m:\u001b[0m \u001b[1;34m'adm@superbac.com'\u001b[0m\u001b[1;33m}\u001b[0m\u001b[1;33m\u001b[0m\u001b[1;33m\u001b[0m\u001b[0m\n\u001b[0;32m     14\u001b[0m \u001b[0mcadastro\u001b[0m \u001b[1;33m=\u001b[0m\u001b[1;33m[\u001b[0m\u001b[1;33m]\u001b[0m\u001b[1;33m\u001b[0m\u001b[1;33m\u001b[0m\u001b[0m\n\u001b[1;32m---> 15\u001b[1;33m \u001b[1;32mfor\u001b[0m \u001b[0mk\u001b[0m \u001b[1;32min\u001b[0m \u001b[0mcadastro\u001b[0m\u001b[1;33m.\u001b[0m\u001b[0mkeys\u001b[0m\u001b[1;33m(\u001b[0m\u001b[1;33m)\u001b[0m\u001b[1;33m:\u001b[0m\u001b[1;33m\u001b[0m\u001b[1;33m\u001b[0m\u001b[0m\n\u001b[0m\u001b[0;32m     16\u001b[0m     \u001b[1;32mif\u001b[0m \u001b[0mk\u001b[0m \u001b[1;33m==\u001b[0m \u001b[1;34m'SUPERBAC'\u001b[0m\u001b[1;33m:\u001b[0m\u001b[1;33m\u001b[0m\u001b[1;33m\u001b[0m\u001b[0m\n\u001b[0;32m     17\u001b[0m         \u001b[0mprint\u001b[0m\u001b[1;33m(\u001b[0m\u001b[0mcadastro\u001b[0m\u001b[1;33m[\u001b[0m\u001b[0mk\u001b[0m\u001b[1;33m]\u001b[0m\u001b[1;33m)\u001b[0m\u001b[1;33m\u001b[0m\u001b[1;33m\u001b[0m\u001b[0m\n",
      "\u001b[1;31mAttributeError\u001b[0m: 'list' object has no attribute 'keys'"
     ]
    }
   ],
   "source": [
    "'''{\"f1\" # código do fornecedor gerado por ordem de cadastro\n",
    "            : ['SUPERBAC', # nome próprio inputado pelo usuário formato UPPER\n",
    "            '(44)99222-3444', # telefone ou celular no formato (XX)9XXXX-XXXX, onde X é input\n",
    "            'adm@superbac.com'], # e-mail no formato yyyyy@yyyy.yyy, onde y é input formato LOWER\n",
    "            \n",
    "           \"f2\": ['INDREL',\n",
    "                '(44)99954-3321',\n",
    "                'indrel@gmail.com'],\n",
    "            \n",
    "           \"f3\" : ['GEOTOPOGRAFIA',\n",
    "                '(43)99912-1234',\n",
    "                'geotopo@geotopo.com']}'''\n",
    "sup = {'nome': 'SUPERBAC' , 'tel': '(44)99222-3444', 'email': 'adm@superbac.com'}\n",
    "cadastro =[] \n",
    "for k in cadastro.keys():\n",
    "    if k == 'SUPERBAC':\n",
    "        print(cadastro[k])"
   ]
  },
  {
   "cell_type": "markdown",
   "id": "3ec369e5",
   "metadata": {},
   "source": [
    "Digite o número de acordo com a opção desejada e aperte ENTER:\n",
    "[1] - Buscar Fornecedor Cadastrado;\n",
    "[2] - Adicionar Novo Fornecedor;\n",
    "[3] - Remover Fornecedor Cadastrado;\n",
    "[4] - Ajuda;\n",
    "[5] - Sair."
   ]
  },
  {
   "cell_type": "code",
   "execution_count": 96,
   "id": "8312b2aa",
   "metadata": {},
   "outputs": [
    {
     "name": "stdout",
     "output_type": "stream",
     "text": [
      "{'nome': 'superbac', 'telefone': '(44)90000-0000', 'email': 'blabla@gmail.com'}\n",
      "{'nome': 'aaaaaaaa', 'telefone': '(44)99999-9999', 'email': 'aaaaaa@hotmail.com'}\n",
      "{'nome': 'bbbbbbbb', 'telefone': '(44)98888-8888', 'email': 'bbbbbb@outlook.com'}\n",
      "{'nome': 'cccccccc', 'telefone': '(44)97777-7777', 'email': 'cccccc@msn.com'}\n"
     ]
    }
   ],
   "source": [
    "f1 = {'nome': 'superbac', 'telefone': '(44)90000-0000', 'email': 'blabla@gmail.com'}\n",
    "f2 = {'nome': 'aaaaaaaa', 'telefone': '(44)99999-9999', 'email': 'aaaaaa@hotmail.com'}\n",
    "f3 = {'nome': 'bbbbbbbb', 'telefone': '(44)98888-8888', 'email': 'bbbbbb@outlook.com'}\n",
    "f4 = {'nome': 'cccccccc', 'telefone': '(44)97777-7777', 'email': 'cccccc@msn.com'}\n",
    "lista_f = [f1, f2, f3, f4]\n",
    "\n",
    "for i in lista_f:\n",
    "    print(i)"
   ]
  },
  {
   "cell_type": "code",
   "execution_count": 101,
   "id": "8443030d",
   "metadata": {
    "scrolled": true
   },
   "outputs": [
    {
     "name": "stdout",
     "output_type": "stream",
     "text": [
      "[0] - {'nome': 'superbac', 'telefone': '(44)90000-0000', 'email': 'blabla@gmail.com'}\n",
      "[1] - {'nome': 'aaaaaaaa', 'telefone': '(44)99999-9999', 'email': 'aaaaaa@hotmail.com'}\n",
      "[2] - {'nome': 'bbbbbbbb', 'telefone': '(44)98888-8888', 'email': 'bbbbbb@outlook.com'}\n",
      "Digite o código do Fornecedor que você quer eliminar: 0\n",
      "{'nome': 'superbac', 'telefone': '(44)90000-0000', 'email': 'blabla@gmail.com'}\n",
      "[0] - {'nome': 'aaaaaaaa', 'telefone': '(44)99999-9999', 'email': 'aaaaaa@hotmail.com'}\n",
      "[1] - {'nome': 'bbbbbbbb', 'telefone': '(44)98888-8888', 'email': 'bbbbbb@outlook.com'}\n"
     ]
    }
   ],
   "source": [
    "for i, elemento in enumerate(lista_f):\n",
    "    print(f'[{i}] - {elemento}')\n",
    "choice = int(input('Digite o código do Fornecedor que você quer eliminar: '))\n",
    "f_removed = 0\n",
    "f_removed = lista_f.pop(choice)\n",
    "print(f_removed)\n",
    "for i, elemento in enumerate(lista_f):\n",
    "    print(f'[{i}] - {elemento}')"
   ]
  },
  {
   "cell_type": "code",
   "execution_count": 106,
   "id": "587ae44d",
   "metadata": {},
   "outputs": [
    {
     "name": "stdout",
     "output_type": "stream",
     "text": [
      "o fornecedor superbac  foi removido com sucesso!\n"
     ]
    }
   ],
   "source": [
    "print('o fornecedor', f_removed['nome'],'foi removido com sucesso!')"
   ]
  },
  {
   "cell_type": "code",
   "execution_count": 111,
   "id": "9c1ab2c1",
   "metadata": {},
   "outputs": [
    {
     "name": "stdout",
     "output_type": "stream",
     "text": [
      "\u001b[0;30;44m"
     ]
    },
    {
     "ename": "KeyboardInterrupt",
     "evalue": "Interrupted by user",
     "output_type": "error",
     "traceback": [
      "\u001b[1;31m---------------------------------------------------------------------------\u001b[0m",
      "\u001b[1;31mKeyboardInterrupt\u001b[0m                         Traceback (most recent call last)",
      "\u001b[1;32m<ipython-input-111-ccbf165c02f6>\u001b[0m in \u001b[0;36m<module>\u001b[1;34m\u001b[0m\n\u001b[0;32m      9\u001b[0m \u001b[0mcor\u001b[0m\u001b[1;33m=\u001b[0m\u001b[1;36m4\u001b[0m\u001b[1;33m\u001b[0m\u001b[1;33m\u001b[0m\u001b[0m\n\u001b[0;32m     10\u001b[0m \u001b[0mprint\u001b[0m\u001b[1;33m(\u001b[0m\u001b[0mc\u001b[0m\u001b[1;33m[\u001b[0m\u001b[0mcor\u001b[0m\u001b[1;33m]\u001b[0m\u001b[1;33m,\u001b[0m \u001b[0mend\u001b[0m\u001b[1;33m=\u001b[0m\u001b[1;34m''\u001b[0m\u001b[1;33m)\u001b[0m\u001b[1;33m\u001b[0m\u001b[1;33m\u001b[0m\u001b[0m\n\u001b[1;32m---> 11\u001b[1;33m option = int(input('''\n\u001b[0m\u001b[0;32m     12\u001b[0m \u001b[1;33m[\u001b[0m\u001b[1;36m1\u001b[0m\u001b[1;33m]\u001b[0m \u001b[1;33m-\u001b[0m \u001b[0mBuscar\u001b[0m \u001b[0mFornecedor\u001b[0m \u001b[0mCadastrado\u001b[0m\u001b[1;33m;\u001b[0m\u001b[1;33m\u001b[0m\u001b[1;33m\u001b[0m\u001b[0m\n\u001b[0;32m     13\u001b[0m \u001b[1;33m[\u001b[0m\u001b[1;36m2\u001b[0m\u001b[1;33m]\u001b[0m \u001b[1;33m-\u001b[0m \u001b[0mAdicionar\u001b[0m \u001b[0mNovo\u001b[0m \u001b[0mFornecedor\u001b[0m\u001b[1;33m;\u001b[0m\u001b[1;33m\u001b[0m\u001b[1;33m\u001b[0m\u001b[0m\n",
      "\u001b[1;32m~\\anaconda3\\lib\\site-packages\\ipykernel\\kernelbase.py\u001b[0m in \u001b[0;36mraw_input\u001b[1;34m(self, prompt)\u001b[0m\n\u001b[0;32m    858\u001b[0m                 \u001b[1;34m\"raw_input was called, but this frontend does not support input requests.\"\u001b[0m\u001b[1;33m\u001b[0m\u001b[1;33m\u001b[0m\u001b[0m\n\u001b[0;32m    859\u001b[0m             )\n\u001b[1;32m--> 860\u001b[1;33m         return self._input_request(str(prompt),\n\u001b[0m\u001b[0;32m    861\u001b[0m             \u001b[0mself\u001b[0m\u001b[1;33m.\u001b[0m\u001b[0m_parent_ident\u001b[0m\u001b[1;33m,\u001b[0m\u001b[1;33m\u001b[0m\u001b[1;33m\u001b[0m\u001b[0m\n\u001b[0;32m    862\u001b[0m             \u001b[0mself\u001b[0m\u001b[1;33m.\u001b[0m\u001b[0m_parent_header\u001b[0m\u001b[1;33m,\u001b[0m\u001b[1;33m\u001b[0m\u001b[1;33m\u001b[0m\u001b[0m\n",
      "\u001b[1;32m~\\anaconda3\\lib\\site-packages\\ipykernel\\kernelbase.py\u001b[0m in \u001b[0;36m_input_request\u001b[1;34m(self, prompt, ident, parent, password)\u001b[0m\n\u001b[0;32m    902\u001b[0m             \u001b[1;32mexcept\u001b[0m \u001b[0mKeyboardInterrupt\u001b[0m\u001b[1;33m:\u001b[0m\u001b[1;33m\u001b[0m\u001b[1;33m\u001b[0m\u001b[0m\n\u001b[0;32m    903\u001b[0m                 \u001b[1;31m# re-raise KeyboardInterrupt, to truncate traceback\u001b[0m\u001b[1;33m\u001b[0m\u001b[1;33m\u001b[0m\u001b[1;33m\u001b[0m\u001b[0m\n\u001b[1;32m--> 904\u001b[1;33m                 \u001b[1;32mraise\u001b[0m \u001b[0mKeyboardInterrupt\u001b[0m\u001b[1;33m(\u001b[0m\u001b[1;34m\"Interrupted by user\"\u001b[0m\u001b[1;33m)\u001b[0m \u001b[1;32mfrom\u001b[0m \u001b[1;32mNone\u001b[0m\u001b[1;33m\u001b[0m\u001b[1;33m\u001b[0m\u001b[0m\n\u001b[0m\u001b[0;32m    905\u001b[0m             \u001b[1;32mexcept\u001b[0m \u001b[0mException\u001b[0m \u001b[1;32mas\u001b[0m \u001b[0me\u001b[0m\u001b[1;33m:\u001b[0m\u001b[1;33m\u001b[0m\u001b[1;33m\u001b[0m\u001b[0m\n\u001b[0;32m    906\u001b[0m                 \u001b[0mself\u001b[0m\u001b[1;33m.\u001b[0m\u001b[0mlog\u001b[0m\u001b[1;33m.\u001b[0m\u001b[0mwarning\u001b[0m\u001b[1;33m(\u001b[0m\u001b[1;34m\"Invalid Message:\"\u001b[0m\u001b[1;33m,\u001b[0m \u001b[0mexc_info\u001b[0m\u001b[1;33m=\u001b[0m\u001b[1;32mTrue\u001b[0m\u001b[1;33m)\u001b[0m\u001b[1;33m\u001b[0m\u001b[1;33m\u001b[0m\u001b[0m\n",
      "\u001b[1;31mKeyboardInterrupt\u001b[0m: Interrupted by user"
     ]
    }
   ],
   "source": [
    "c = ('\\033[m',        # 0 - SEM COR\n",
    "    '\\033[0;30;41m',  # 1 - VERMELHO\n",
    "    '\\033[0;30;42m',  # 2 - VERDE\n",
    "    '\\033[0;30;43m',  # 3 - AMARELO\n",
    "    '\\033[0;30;44m',  # 4 - AZUL\n",
    "    '\\033[1;30;45m',  # 5 - ROXO\n",
    "    '\\033[7;30m',     # 6 - BRANCO\n",
    "    )\n",
    "cor=4\n",
    "print(c[cor], end='')\n",
    "option = int(input('''\n",
    "[1] - Buscar Fornecedor Cadastrado;\n",
    "[2] - Adicionar Novo Fornecedor;\n",
    "[3] - Remover Fornecedor Cadastrado;\n",
    "[4] - Sair.\n",
    "'''))\n",
    "    \n",
    "option"
   ]
  }
 ],
 "metadata": {
  "kernelspec": {
   "display_name": "Python 3",
   "language": "python",
   "name": "python3"
  },
  "language_info": {
   "codemirror_mode": {
    "name": "ipython",
    "version": 3
   },
   "file_extension": ".py",
   "mimetype": "text/x-python",
   "name": "python",
   "nbconvert_exporter": "python",
   "pygments_lexer": "ipython3",
   "version": "3.8.8"
  }
 },
 "nbformat": 4,
 "nbformat_minor": 5
}
